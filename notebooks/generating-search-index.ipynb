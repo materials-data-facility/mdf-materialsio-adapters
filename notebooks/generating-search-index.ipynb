{
 "cells": [
  {
   "cell_type": "markdown",
   "metadata": {},
   "source": [
    "# Parser Interface\n",
    "This notebook illustrates how to great MDF-ready metadata with MDF-MatIO"
   ]
  },
  {
   "cell_type": "code",
   "execution_count": 1,
   "metadata": {
    "collapsed": true
   },
   "outputs": [],
   "source": [
    "from mdf_matio.adapters import noop_parsers\n",
    "from mdf_matio import get_mdf_parsers, generate_search_index\n",
    "from materials_io.utils import interface as matio\n",
    "from tarfile import TarFile\n",
    "import pandas as pd\n",
    "import os"
   ]
  },
  {
   "cell_type": "markdown",
   "metadata": {},
   "source": [
    "## Get the Available Parsers\n",
    "Not all of the Parsers available in MaterialsIO are compatible with the MDF"
   ]
  },
  {
   "cell_type": "code",
   "execution_count": 2,
   "metadata": {},
   "outputs": [
    {
     "name": "stderr",
     "output_type": "stream",
     "text": [
      "WARNING:hyperspy.api:The ipywidgets GUI elements are not available, probably because the hyperspy_gui_ipywidgets package is not installed.\n",
      "WARNING:hyperspy.api:The traitsui GUI elements are not available, probably because the hyperspy_gui_traitsui package is not installed.\n",
      "c:\\users\\ward6\\documents\\uc\\citrine\\software\\materials-io\\materials_io\\file.py:12: UserWarning: The libmagic library is not installed. See: https://github.com/ahupp/python-magic#installation\n",
      "  warn('The libmagic library is not installed. '\n"
     ]
    },
    {
     "name": "stdout",
     "output_type": "stream",
     "text": [
      "Found 7 parsers: {'em', 'dft', 'generic', 'image', 'crystal', 'ase', 'noop'}\n"
     ]
    }
   ],
   "source": [
    "all_parsers = matio.get_available_parsers()\n",
    "print(f'Found {len(all_parsers)} parsers:', set(all_parsers.keys()))"
   ]
  },
  {
   "cell_type": "markdown",
   "metadata": {},
   "source": [
    "One part of the MDF IO library is defining which parsers produce data in this format or a method for transforming the outputs of the data into a format compatible with the MDF's Search Index"
   ]
  },
  {
   "cell_type": "code",
   "execution_count": 3,
   "metadata": {},
   "outputs": [
    {
     "name": "stdout",
     "output_type": "stream",
     "text": [
      "Found 2 parsers that require zero alteration: ['image', 'em']\n"
     ]
    }
   ],
   "source": [
    "print(f'Found {len(noop_parsers)} parsers that require zero alteration:', noop_parsers)"
   ]
  },
  {
   "cell_type": "code",
   "execution_count": 4,
   "metadata": {},
   "outputs": [
    {
     "name": "stdout",
     "output_type": "stream",
     "text": [
      "Found 4 compatible parsers: ['image', 'em', 'dft', 'generic']\n"
     ]
    }
   ],
   "source": [
    "mdf_parsers = get_mdf_parsers()\n",
    "print(f'Found {len(mdf_parsers)} compatible parsers:', mdf_parsers)"
   ]
  },
  {
   "cell_type": "markdown",
   "metadata": {},
   "source": [
    "Some of these parsers require an \"adapter\" to transform the data into the MDF format."
   ]
  },
  {
   "cell_type": "markdown",
   "metadata": {},
   "source": [
    "## Demonstrate Adapters\n",
    "A good example of a parser that generates data in a non-MDF format is the \"generic file parser.\""
   ]
  },
  {
   "cell_type": "code",
   "execution_count": 5,
   "metadata": {
    "collapsed": true
   },
   "outputs": [],
   "source": [
    "test_file = os.path.join('example-files', 'dog2.jpeg')"
   ]
  },
  {
   "cell_type": "code",
   "execution_count": 6,
   "metadata": {
    "collapsed": true
   },
   "outputs": [],
   "source": [
    "generic_parser = matio.get_parser('generic')"
   ]
  },
  {
   "cell_type": "markdown",
   "metadata": {},
   "source": [
    "The generic parser produces the hashes for the data file and, if installed, autodetects the file format."
   ]
  },
  {
   "cell_type": "code",
   "execution_count": 7,
   "metadata": {},
   "outputs": [
    {
     "data": {
      "text/plain": [
       "{'filename': 'dog2.jpeg',\n",
       " 'length': 269360,\n",
       " 'sha512': '1f47ed450ad23e92caf1a0e5307e2af9b13edcd7735ac9685c9f21c9faec62cb95892e890a73480b06189ed5b842d8b265c5e47cc6cf279d281270211cff8f90'}"
      ]
     },
     "execution_count": 7,
     "metadata": {},
     "output_type": "execute_result"
    }
   ],
   "source": [
    "file_info = generic_parser.parse([test_file])\n",
    "file_info"
   ]
  },
  {
   "cell_type": "markdown",
   "metadata": {},
   "source": [
    "The MDF search index stores this information under the the \"files\" block. \n",
    "Our adapter to the \"generic\" parser performs this operation."
   ]
  },
  {
   "cell_type": "code",
   "execution_count": 8,
   "metadata": {
    "collapsed": true
   },
   "outputs": [],
   "source": [
    "generic_adapter = matio.get_adapter('generic')"
   ]
  },
  {
   "cell_type": "code",
   "execution_count": 9,
   "metadata": {},
   "outputs": [
    {
     "data": {
      "text/plain": [
       "{'files': [{'data_type': 'Unknown',\n",
       "   'filename': 'dog2.jpeg',\n",
       "   'length': 269360,\n",
       "   'sha512': '1f47ed450ad23e92caf1a0e5307e2af9b13edcd7735ac9685c9f21c9faec62cb95892e890a73480b06189ed5b842d8b265c5e47cc6cf279d281270211cff8f90'}]}"
      ]
     },
     "execution_count": 9,
     "metadata": {},
     "output_type": "execute_result"
    }
   ],
   "source": [
    "generic_adapter.transform(file_info)"
   ]
  },
  {
   "cell_type": "markdown",
   "metadata": {},
   "source": [
    "The advantage of this adapter is that the MDF need not implement the hashing or file-type detection framework. \n",
    "The only tool needed for using this Materials IO parser is some data reshaping - a much easier task."
   ]
  },
  {
   "cell_type": "markdown",
   "metadata": {},
   "source": [
    "## Parsing MDF-Compliant Data\n",
    "The `generate_search_index` function uses these capabilities to automatically generate compliant data from a directory of files.  It determines which parsers are available, runs them on all data in a directory, applies the adapters, and then merges the metadata of files records that describe the same record (e.g., a single experiment or calculation). "
   ]
  },
  {
   "cell_type": "markdown",
   "metadata": {},
   "source": [
    "Unpacking VASP data. (It is large enough that we do not want to commit the uncompressed files to GitHub)."
   ]
  },
  {
   "cell_type": "code",
   "execution_count": 10,
   "metadata": {},
   "outputs": [],
   "source": [
    "with TarFile.open(os.path.join('example-files', 'calc', 'AlNi_static_LDA.tar.gz')) as t:\n",
    "    t.extractall(os.path.join('example-files', 'calc'))"
   ]
  },
  {
   "cell_type": "markdown",
   "metadata": {},
   "source": [
    "Deploying the search tool"
   ]
  },
  {
   "cell_type": "code",
   "execution_count": 11,
   "metadata": {},
   "outputs": [
    {
     "data": {
      "text/plain": [
       "<generator object generate_search_index at 0x0000020FDAE3DAF0>"
      ]
     },
     "execution_count": 11,
     "metadata": {},
     "output_type": "execute_result"
    }
   ],
   "source": [
    "record_gen = generate_search_index(os.path.join('example-files', 'calc'), False)\n",
    "record_gen"
   ]
  },
  {
   "cell_type": "markdown",
   "metadata": {},
   "source": [
    "MaterialsIO uses generators to avoid needing to hold the entire dataset in memory at once.\n",
    "Each metadata record is generated incremementally on-demand."
   ]
  },
  {
   "cell_type": "code",
   "execution_count": 12,
   "metadata": {},
   "outputs": [],
   "source": [
    "records = list(record_gen)"
   ]
  },
  {
   "cell_type": "code",
   "execution_count": 13,
   "metadata": {},
   "outputs": [
    {
     "data": {
      "text/plain": [
       "{'files': [{'data_type': 'Unknown',\n",
       "   'filename': 'AlNi_static_LDA.tar.gz',\n",
       "   'length': 234350,\n",
       "   'sha512': '23ffce2c6c4c3f2903fea92813c28a36a801a100f65d4e38f4af6c9750d73e015b59979cacf4eb6f8513702bbd84b4500746f4157e390cd6607f0e6c505488bf'}]}"
      ]
     },
     "execution_count": 13,
     "metadata": {},
     "output_type": "execute_result"
    }
   ],
   "source": [
    "records[0]"
   ]
  },
  {
   "cell_type": "markdown",
   "metadata": {},
   "source": [
    "Note that each entry contains the MDF data in the form needed by the MDF.\n",
    "For example, the data from the generic file peraser is stored as the value to the key `files` and is a list."
   ]
  },
  {
   "cell_type": "code",
   "execution_count": 14,
   "metadata": {},
   "outputs": [],
   "source": [
    "dft_records = [x for x in records if 'dft' in x]"
   ]
  },
  {
   "cell_type": "code",
   "execution_count": 15,
   "metadata": {},
   "outputs": [
    {
     "data": {
      "text/plain": [
       "[{'dft': {'converged': True,\n",
       "   'cutoff_energy': 650.0,\n",
       "   'exchange_correlation_functional': 'PAW'},\n",
       "  'files': [{'data_type': 'Unknown',\n",
       "    'filename': 'KPOINTS',\n",
       "    'length': 32,\n",
       "    'sha512': '2a70cea721b10dd65c9d915ff18d906749380dead08d332dc15a2c6196c636b1bda4540377b6850a8cb4e689eca92e0889f9ee5f812d98b4f0078a591b9b19eb'},\n",
       "   {'data_type': 'Unknown',\n",
       "    'filename': 'OSZICAR',\n",
       "    'length': 663,\n",
       "    'sha512': 'daedbf1bc47695fb5fc4a65f0a8ae8b60a74d84fde9c569e3d957a5ae87ebf21e5bdd482ae69e9760e7b1125270ded62eb1d01af6882b83e4f42d12683b03a36'},\n",
       "   {'data_type': 'Unknown',\n",
       "    'filename': 'INCAR',\n",
       "    'length': 460,\n",
       "    'sha512': 'd1ece02baeedec07efa2cdaecee033c78a8e43886473e05fc1d3a3b8ebb0a32336214fa6713efbce9f4a331064b62b10dc9188c4d961a090d7e38529e6b04117'},\n",
       "   {'data_type': 'Unknown',\n",
       "    'filename': 'OUTCAR',\n",
       "    'length': 266416,\n",
       "    'sha512': 'cfcf0afc831204cb31354d7c03a8bc26cf4ac1c445afcc70dc336a19ed91338ab3d5f0556265dd50eb2bd18c7d4d69b1a882ee539de165ada6a3cfcae070a828'},\n",
       "   {'data_type': 'Unknown',\n",
       "    'filename': 'DOSCAR',\n",
       "    'length': 18297,\n",
       "    'sha512': 'defdb049f871123ae2fe93adc3e7a1834f236ac771f10e82b75bdc74f80eaffb7dfe395caeac2fc145df961bffddbabc1dd6e7c57399c7c03d94fb8e078ae2e7'},\n",
       "   {'data_type': 'Unknown',\n",
       "    'filename': 'POSCAR',\n",
       "    'length': 189,\n",
       "    'sha512': '180f5c5e1d273b3c069f40d67a3f57add75e617df6a5d11c7b3ccd78c3db3ce4378bbb7106e27c4f1b744ba9e6da3538aa1362f6a1b4102a47f317d5540e2aaf'},\n",
       "   {'data_type': 'Unknown',\n",
       "    'filename': 'CONTCAR',\n",
       "    'length': 523,\n",
       "    'sha512': 'b29f1e6ced5bb681bf0ab19e264e0d182581fd8a84e47d20eb9c323791f0fe3e87a460c6c964dbcce971556c30860a4a141795c671ced3eb8c4d95528d128383'},\n",
       "   {'data_type': 'Unknown',\n",
       "    'filename': 'XDATCAR',\n",
       "    'length': 292,\n",
       "    'sha512': '5cc741db30247539aa75baa0510badd74e47d3fb966b0350d5d6914844222c9f4dc4b0d6bf9ae55bb04c0ed8e6b971ea522907e45b9c5bc942cd37c12be33056'}],\n",
       "  'material': {'elemental_proportions': {'Al': 1}},\n",
       "  'origin': {'name': 'VASP', 'type': 'computation', 'version': '5.3.2'}}]"
      ]
     },
     "execution_count": 15,
     "metadata": {},
     "output_type": "execute_result"
    }
   ],
   "source": [
    "dft_records"
   ]
  },
  {
   "cell_type": "markdown",
   "metadata": {},
   "source": [
    "Note how this record contains >1 file and additional metadata for the DFT calculations"
   ]
  },
  {
   "cell_type": "code",
   "execution_count": null,
   "metadata": {},
   "outputs": [],
   "source": []
  }
 ],
 "metadata": {
  "kernelspec": {
   "display_name": "Python 3",
   "language": "python",
   "name": "python3"
  },
  "language_info": {
   "codemirror_mode": {
    "name": "ipython",
    "version": 3
   },
   "file_extension": ".py",
   "mimetype": "text/x-python",
   "name": "python",
   "nbconvert_exporter": "python",
   "pygments_lexer": "ipython3",
   "version": "3.6.8"
  }
 },
 "nbformat": 4,
 "nbformat_minor": 2
}
